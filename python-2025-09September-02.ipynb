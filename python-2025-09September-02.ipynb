{
 "cells": [
  {
   "cell_type": "markdown",
   "metadata": {},
   "source": [
    "# Agenda, week 5\n",
    "\n",
    "1. Q&A\n",
    "2. What are modules? What do they give us?\n",
    "3. The various forms of the `import` statement\n",
    "4. Developing a simple module\n",
    "5. What happens when we `import` a module -- the special `__name__` variable\n",
    "6. Python's standard library\n",
    "7. PyPI and `pip` -- installing third-party modules\n",
    "8. A little bit about `uv`\n",
    "9. Using third-party modules -- how do you find, choose, download, and use them (and do that safely)?\n",
    "10. AMA -- ask me anything\n",
    "11. What next? Now that you've finished this course, where do you go for additional Python learning, resources, etc?"
   ]
  },
  {
   "cell_type": "markdown",
   "metadata": {},
   "source": [
    "# What are modules? What do they give us?\n",
    "\n",
    "We've talked a number of times about the \"Don't repeat yourself\" rule in programming, aka \"DRY.\" If you have written something once, you shouldn't repeat it!\n",
    "\n",
    "1. If the same line is repeated several times in a row, we should replace that with a loop.\n",
    "2. If the same code is repeated several times in a program, we should replace that with a function.\n",
    "3. If the same code is repeated several times across multiple programs, we can use a *library*.\n",
    "\n",
    "A library is a term used in many programming languages to describe either code or data that was defined by someone else, in the past, which you can load into (\"borrow,\" if you will) your program. You don't have to reinvent the wheel this way!\n",
    "\n",
    "Just about every programming language supports libraries. This way, you can save yourself time in the future, or you can save your colleagues time, or they can save you time.\n",
    "\n",
    "Moreover, if there is a bug in a library, it can be fixed once and affect all of our programs. Or if there's an optimization/fix/improvement, then we can fix it once, and affect all of our programs.\n",
    "\n",
    "In Python, we call our libraries \"modules\" and \"packages\":\n",
    "\n",
    "- A module is a single file in which we've defined Python functions and/or variables\n",
    "- A package is a directory containing one or more modules.\n",
    "\n",
    "When we use a module in Python, we get to reuse code and data that other people have defined.\n",
    "\n",
    "A module also defines what we call a \"namespace,\" a way to ensure that variable names are separated from one another, so different pieces of your program don't step on each other's variables."
   ]
  },
  {
   "cell_type": "markdown",
   "metadata": {},
   "source": [
    "# AP: What do you mean by \"separate namespaces\" for data and functions?\n",
    "\n",
    "If I have a software product called ABCDE, and I take out a trademark on that product, then no one else in the software industry can have a product called ABCDE, because that would be confusing.\n",
    "\n",
    "But if someone comes out with a car and calls it ABCDE, then I cannot stop them from having that trademark, because it's a different field.\n",
    "\n",
    "You could say that even though the name is the same, it's in two different \"namespaces,\" it has two different domains.\n",
    "\n",
    "Another example: My name is \"Reuven,\" and there are other Reuvens around. How do we distinguish between me and the others? We use last names! Last names serve as a \"namespace,\" ensuring that I am easily distinguished from other Reuvens out there.\n",
    "\n",
    "The problem of namespacing is basically that we need to resolve the ambiguity when there are multiple thigns with the same name.\n",
    "\n",
    "In many languages, the namespace for functions and the namespace for variables is kept separate. You can have variables `a`, `b`, and `c`, and these names have nothing whatsoever to do with the functions called `a`, `b`, and `c`. They will never interfere with one another. (Whether this is a good idea for you to do in your program is separate.)\n",
    "\n",
    "Python doesn't make this distinction. In Python, we have a single namespace, a single last name, a single domain for trademarks, for all of the things we define, both functions and variables. \n",
    "\n",
    "- If you define a variable `print`, you have just erased (in some ways) the builtin function `print`.   Only one can exist at a time! (This isn't quite true in the case of `print` and other builtin functions, but it will feel that way if you make such a definition!)\n",
    "- If you define a function `total` that takes a bunch of numbers and returns their total, and then you invoke the function and assign the result to a variable named `total`, you have now erased the function's definition! Because now `total` is an integer, not a function.\n",
    "\n",
    "Among other things, this means that you have to be a bit careful about what names you give to variables and functions, to ensure that they don't collide in this sort of way.\n",
    "\n",
    "When we use `def` to define a function, we're really assigning to a variable. "
   ]
  },
  {
   "cell_type": "markdown",
   "metadata": {},
   "source": [
    "# How do we use a module in Python?\n",
    "\n",
    "Python comes with a large collection of modules known as the \"standard library.\" One of the modules in there is `random`, which contains a large number of functions having to do with random values -- getting random integers, choosing random elements of a list, etc.\n",
    "\n",
    "If we want to use that functionality (rather than invent it ourselves), we need to tell Python that we want to load up the `random` module. How do we do that?\n",
    "\n",
    "We use the `import` statement. It looks like this:"
   ]
  },
  {
   "cell_type": "code",
   "execution_count": 1,
   "metadata": {},
   "outputs": [],
   "source": [
    "import random"
   ]
  },
  {
   "cell_type": "markdown",
   "metadata": {},
   "source": [
    "# Dive into the syntax of `import`\n",
    "\n",
    "1. We say `import`. Note that it's not a function! We don't put the name to its right in `()`.\n",
    "2. The name to its right, unlike *most* programming languages I've used in the last, is not a string indicating the filename that we want to import or read. Rather, it's the name of the variable into which the module's values will be assigned.\n",
    "3. There is no (easy, standard) way to use `import` with the name of a file. Rather, you provide the name of the module, and Python uses that as the basis for finding and loading the module you named."
   ]
  },
  {
   "cell_type": "markdown",
   "metadata": {},
   "source": [
    "Now that I've imported `random`, what can I do with it? \n",
    "\n",
    "Answer: Use any/all of the values that it now contains.\n",
    "\n",
    "Well, what does it contain?\n",
    "\n",
    "We can find out in a few different ways. The easiest (in Jupyter) is to run the `dir` function, which returns a list of strings, names that can go after a `.` after the module name.\n",
    "\n",
    "If `dir(random)` includes the string `randint`, then we can use `random.randint` as a value or function, depending on what it is. I know that `random.randint` is a function, and we can then call\n",
    "\n",
    "    random.randint(0, 100)\n",
    "\n",
    "to get a random integer from 0-100.\n",
    "\n",
    "If you want documentation showing not just the names, but what they do, then you can go to `docs.python.org` and look up the `random` module."
   ]
  },
  {
   "cell_type": "markdown",
   "metadata": {},
   "source": [
    "# Exercise: Guessing game\n",
    "\n",
    "1. Have the computer choose a random integer from 0-100 using `random.randint` and assign to `number`.\n",
    "2. Ask the user, repeatedly, to guess a number:\n",
    "    - If it's too high, say \"too high\"\n",
    "    - If it's too low, say \"too low\"\n",
    "    - Otherwise, say \"just right\" and exit\n",
    "3. If it's not right, then keep going, and ask the user to guess again.\n",
    "4. When exiting the program, print not only the number, but how many guesses it took."
   ]
  },
  {
   "cell_type": "code",
   "execution_count": 3,
   "metadata": {},
   "outputs": [
    {
     "name": "stdin",
     "output_type": "stream",
     "text": [
      "Guess:  50\n"
     ]
    },
    {
     "name": "stdout",
     "output_type": "stream",
     "text": [
      "Too low!\n"
     ]
    },
    {
     "name": "stdin",
     "output_type": "stream",
     "text": [
      "Guess:  75\n"
     ]
    },
    {
     "name": "stdout",
     "output_type": "stream",
     "text": [
      "Too high!\n"
     ]
    },
    {
     "name": "stdin",
     "output_type": "stream",
     "text": [
      "Guess:  62\n"
     ]
    },
    {
     "name": "stdout",
     "output_type": "stream",
     "text": [
      "Too high!\n"
     ]
    },
    {
     "name": "stdin",
     "output_type": "stream",
     "text": [
      "Guess:  57\n"
     ]
    },
    {
     "name": "stdout",
     "output_type": "stream",
     "text": [
      "Too high!\n"
     ]
    },
    {
     "name": "stdin",
     "output_type": "stream",
     "text": [
      "Guess:  53\n"
     ]
    },
    {
     "name": "stdout",
     "output_type": "stream",
     "text": [
      "Too high!\n"
     ]
    },
    {
     "name": "stdin",
     "output_type": "stream",
     "text": [
      "Guess:  52\n"
     ]
    },
    {
     "name": "stdout",
     "output_type": "stream",
     "text": [
      "Too high!\n"
     ]
    },
    {
     "name": "stdin",
     "output_type": "stream",
     "text": [
      "Guess:  51\n"
     ]
    },
    {
     "name": "stdout",
     "output_type": "stream",
     "text": [
      "You got it!\n",
      "Number was 51, got it in 7 guesses.\n"
     ]
    }
   ],
   "source": [
    "import random\n",
    "\n",
    "number = random.randint(0, 100)\n",
    "guess_counter = 0\n",
    "\n",
    "while True:\n",
    "    s = input('Guess: ').strip()\n",
    "\n",
    "    if not s.isdigit():\n",
    "        print('Not numeric; try again!')\n",
    "        continue\n",
    "\n",
    "    guess = int(s)\n",
    "    guess_counter += 1\n",
    "\n",
    "    if guess == number:\n",
    "        print('You got it!')\n",
    "        break\n",
    "    elif guess < number:\n",
    "        print('Too low!')\n",
    "    else:\n",
    "        print('Too high!')\n",
    "\n",
    "print(f'Number was {number}, got it in {guess_counter} guesses.')        "
   ]
  },
  {
   "cell_type": "markdown",
   "metadata": {},
   "source": [
    "# Where did Python load `random` from?\n",
    "\n",
    "We said `import random`, and we know that the `random` variable was assigned a module object, and that the module was populated from somewhere. But where? \n",
    "\n",
    "We can ask `random` to tell us about itself:"
   ]
  },
  {
   "cell_type": "code",
   "execution_count": 4,
   "metadata": {},
   "outputs": [
    {
     "data": {
      "text/plain": [
       "<module 'random' from '/Users/reuven/.pyenv/versions/3.13.5/lib/python3.13/random.py'>"
      ]
     },
     "execution_count": 4,
     "metadata": {},
     "output_type": "execute_result"
    }
   ],
   "source": [
    "random"
   ]
  },
  {
   "cell_type": "markdown",
   "metadata": {},
   "source": [
    "How did saying `import random` get translated into loading the file in my `.pyenv` directory, deep down?\n",
    "\n",
    "`sys.path` is the answer. The `sys` module is Python's runtime system. When Python runs, it consults `sys` all of the time. You have to `import sys` to use it, but that just defines the name; the module is loaded at runtime.\n",
    "\n",
    "`sys.path` is a list of strings that Python consults to find modules we're loading."
   ]
  },
  {
   "cell_type": "code",
   "execution_count": 5,
   "metadata": {},
   "outputs": [
    {
     "data": {
      "text/plain": [
       "['/Users/reuven/.pyenv/versions/3.13.5/lib/python313.zip',\n",
       " '/Users/reuven/.pyenv/versions/3.13.5/lib/python3.13',\n",
       " '/Users/reuven/.pyenv/versions/3.13.5/lib/python3.13/lib-dynload',\n",
       " '',\n",
       " '/Users/reuven/.local/lib/python3.13/site-packages',\n",
       " '/Users/reuven/.pyenv/versions/3.13.5/lib/python3.13/site-packages']"
      ]
     },
     "execution_count": 5,
     "metadata": {},
     "output_type": "execute_result"
    }
   ],
   "source": [
    "import sys\n",
    "\n",
    "sys.path"
   ]
  },
  {
   "cell_type": "code",
   "execution_count": 6,
   "metadata": {},
   "outputs": [
    {
     "data": {
      "text/plain": [
       "<module 'random' from '/Users/reuven/.pyenv/versions/3.13.5/lib/python3.13/random.py'>"
      ]
     },
     "execution_count": 6,
     "metadata": {},
     "output_type": "execute_result"
    }
   ],
   "source": [
    "random"
   ]
  },
  {
   "cell_type": "markdown",
   "metadata": {},
   "source": [
    "What if I want Python to look in other places? There are ways to do it. One way is with environment variables, set in your OS. "
   ]
  },
  {
   "cell_type": "markdown",
   "metadata": {},
   "source": [
    "# Can I just invoke `randint`?\n",
    "\n",
    "What if I get tired of writing `random.randint` all of the time? I just want to write `randint`! Will that work?"
   ]
  },
  {
   "cell_type": "code",
   "execution_count": 7,
   "metadata": {},
   "outputs": [
    {
     "ename": "NameError",
     "evalue": "name 'randint' is not defined",
     "output_type": "error",
     "traceback": [
      "\u001b[0;31m---------------------------------------------------------------------------\u001b[0m",
      "\u001b[0;31mNameError\u001b[0m                                 Traceback (most recent call last)",
      "Cell \u001b[0;32mIn[7], line 1\u001b[0m\n\u001b[0;32m----> 1\u001b[0m \u001b[43mrandint\u001b[49m(\u001b[38;5;241m0\u001b[39m, \u001b[38;5;241m100\u001b[39m)\n",
      "\u001b[0;31mNameError\u001b[0m: name 'randint' is not defined"
     ]
    }
   ],
   "source": [
    "randint(0, 100)"
   ]
  },
  {
   "cell_type": "markdown",
   "metadata": {},
   "source": [
    "# `from .. import`\n",
    "\n",
    "The special `from .. import` syntax lets us import a module, and then instead of assigning the module's name as a variable, we get the function we named.\n",
    "\n",
    "If I were to say\n",
    "\n",
    "    from random import randint\n",
    "\n",
    "then I wouldn't be able to say `random.randint`. That's beacuse the only thing we defined in the above line is one variable, `randint`. `random` isn't defined, and thus `random.randint` isn't avaiable.\n",
    "\n",
    "Can you say both\n",
    "\n",
    "    import random\n",
    "    from random import randint\n",
    "\n",
    "Yes, and sometimes I even encourage that.    "
   ]
  },
  {
   "cell_type": "markdown",
   "metadata": {},
   "source": [
    "# What if I want to give the module an alias?\n",
    "\n",
    "What if, instead of importing the module and getting its name dictated by its filename, I want to have the module variable defined as a different name.\n",
    "\n",
    "For this, we have `import .. as`. This imports as per usual, but we get to define an alias for our module.\n",
    "\n",
    "This is useful in two cases:\n",
    "\n",
    "1. The name is super long and annoying\n",
    "2. The name appears in more than one place, and we want to ensure that there aren't collisions."
   ]
  },
  {
   "cell_type": "code",
   "execution_count": 11,
   "metadata": {},
   "outputs": [],
   "source": [
    "import random as r"
   ]
  },
  {
   "cell_type": "code",
   "execution_count": 12,
   "metadata": {},
   "outputs": [
    {
     "data": {
      "text/plain": [
       "57"
      ]
     },
     "execution_count": 12,
     "metadata": {},
     "output_type": "execute_result"
    }
   ],
   "source": [
    "r.randint(0, 100)"
   ]
  },
  {
   "cell_type": "markdown",
   "metadata": {},
   "source": [
    "# The fourth version: `from MODULE import NAME as ALIAS`\n",
    "\n",
    "Then I can say\n"
   ]
  },
  {
   "cell_type": "code",
   "execution_count": 13,
   "metadata": {},
   "outputs": [],
   "source": [
    "from random import randint as ri"
   ]
  },
  {
   "cell_type": "markdown",
   "metadata": {},
   "source": [
    "# The four ways to use `import`:\n",
    "\n",
    "1. `import MODNAME` -- the standard way to do things, which imports the entire module and defines `MODNAME` AS A VARIABLE\n",
    "2. `IMPORT MODNAME AS ALIAS` -- just rename the variable that will be used for the module\n",
    "3. `from MODNAME import NAME` -- don't define `MODNAME`, but do define `NAME`\n",
    "4. `from MODNAME import NAME as ALIAS` -- rename the imported `NAME` as `ALIAS`."
   ]
  },
  {
   "cell_type": "markdown",
   "metadata": {},
   "source": [
    "# Importing more than one module\n",
    "\n",
    "Each `import` needs to be on a line by itself.\n",
    "\n",
    "If you want to import from `abcd` and `efgh` and `ijkl`, you have to say:\n",
    "\n",
    "    import abcd\n",
    "    import efgh\n",
    "    import ijkl\n",
    "\n",
    "If you're using `from .. import`, then you can import multiple names from the same module:\n",
    "\n",
    "    from abcd import thing1, thing2\n",
    "    "
   ]
  },
  {
   "cell_type": "markdown",
   "metadata": {},
   "source": [
    "# Exercise: Another guessing game!\n",
    "\n",
    "1. Define a list of strings, where each string represents the months of the year.\n",
    "2. Use `random.choice`, a function in the `random` module, to select one of the months. However, you don't want to invoke it as `random.choice`, but rather as just `ch`, for short. You'll call `ch` on the list of month names, and get a random one.\n",
    "3. Ask the user, repeatedly, to guess the month that was selected.\n",
    "4. When they answer correctly, indicate how many times they guessed."
   ]
  },
  {
   "cell_type": "code",
   "execution_count": 14,
   "metadata": {},
   "outputs": [],
   "source": [
    "months = 'Jan Feb Mar Apr May Jun Jul Aug Sep Oct Nov Dec'.split()"
   ]
  },
  {
   "cell_type": "code",
   "execution_count": 15,
   "metadata": {},
   "outputs": [
    {
     "data": {
      "text/plain": [
       "['Jan',\n",
       " 'Feb',\n",
       " 'Mar',\n",
       " 'Apr',\n",
       " 'May',\n",
       " 'Jun',\n",
       " 'Jul',\n",
       " 'Aug',\n",
       " 'Sep',\n",
       " 'Oct',\n",
       " 'Nov',\n",
       " 'Dec']"
      ]
     },
     "execution_count": 15,
     "metadata": {},
     "output_type": "execute_result"
    }
   ],
   "source": [
    "months"
   ]
  },
  {
   "cell_type": "code",
   "execution_count": 16,
   "metadata": {},
   "outputs": [],
   "source": [
    "# by using from .. import .. as\n",
    "# - I imported the random module\n",
    "# - I said that I want to define just the \"choice\" function from the module, not the module itself\n",
    "# - but I want to alias \"choice\" to something else, \"ch\"\n",
    "\n",
    "from random import choice as ch"
   ]
  },
  {
   "cell_type": "code",
   "execution_count": 20,
   "metadata": {},
   "outputs": [
    {
     "data": {
      "text/plain": [
       "'Dec'"
      ]
     },
     "execution_count": 20,
     "metadata": {},
     "output_type": "execute_result"
    }
   ],
   "source": [
    "ch(months)"
   ]
  },
  {
   "cell_type": "code",
   "execution_count": 21,
   "metadata": {},
   "outputs": [
    {
     "name": "stdin",
     "output_type": "stream",
     "text": [
      "Guess the month:  Jul\n",
      "Guess the month:  May\n",
      "Guess the month:  Mar\n",
      "Guess the month:  Jan\n",
      "Guess the month:  Feb\n",
      "Guess the month:  Apr\n",
      "Guess the month:  Sep\n",
      "Guess the month:  Oct\n",
      "Guess the month:  Nov\n",
      "Guess the month:  Dec\n",
      "Guess the month:  Aug\n"
     ]
    },
    {
     "name": "stdout",
     "output_type": "stream",
     "text": [
      "You got it!\n",
      "You got it in 11 guesses!\n"
     ]
    }
   ],
   "source": [
    "from random import choice as ch\n",
    "\n",
    "months = 'Jan Feb Mar Apr May Jun Jul Aug Sep Oct Nov Dec'.split()\n",
    "random_month = ch(months)\n",
    "guess_counter = 0\n",
    "\n",
    "while True:\n",
    "    guess = input('Guess the month: ').strip().capitalize()[:3]\n",
    "    guess_counter += 1\n",
    "\n",
    "    if guess == random_month:\n",
    "        print('You got it!')\n",
    "        break\n",
    "\n",
    "print(f'You got it in {guess_counter} guesses!')    "
   ]
  },
  {
   "cell_type": "markdown",
   "metadata": {},
   "source": [
    "Many, *many* famous modules expect us to alias them when we import them:\n",
    "\n",
    "- `import numpy as np`\n",
    "- `import pandas as pd`\n",
    "- `import matplotlib as plt`\n",
    "- `from plotly import express as px`"
   ]
  },
  {
   "cell_type": "markdown",
   "metadata": {},
   "source": [
    "# Next up\n",
    "\n",
    "1. Write a simple module and `import` it\n",
    "2. How do modules work?"
   ]
  },
  {
   "cell_type": "markdown",
   "metadata": {},
   "source": [
    "# Writing a module\n",
    "\n",
    "Writing a module is one of the easiest things you can do in Python! (Distributing it, packaging it up, etc., can be frustrating and confusing.) However, if you're writing a module that will be used in one particular program, then you can get away with just putting the module file inside of the program's directory. That's because `import` always looks first in the current directory.\n",
    "\n",
    "What is a module?\n",
    "\n",
    "- A file\n",
    "- containing Python variable and function definitions\n",
    "- with a `.py` suffix\n",
    "- in a directory from which it can be loaded (in this case, the same as our program or our Jupyter notebook)"
   ]
  },
  {
   "cell_type": "code",
   "execution_count": 22,
   "metadata": {},
   "outputs": [],
   "source": [
    "# right now, in the same directory as this Jupyter notebook, is an empty file\n",
    "# called mymod.py\n",
    "\n",
    "# if I say \"import mymod\", will it work?\n",
    "\n",
    "import mymod"
   ]
  },
  {
   "cell_type": "code",
   "execution_count": 23,
   "metadata": {},
   "outputs": [
    {
     "data": {
      "text/plain": [
       "['__builtins__',\n",
       " '__cached__',\n",
       " '__doc__',\n",
       " '__file__',\n",
       " '__loader__',\n",
       " '__name__',\n",
       " '__package__',\n",
       " '__spec__']"
      ]
     },
     "execution_count": 23,
     "metadata": {},
     "output_type": "execute_result"
    }
   ],
   "source": [
    "dir(mymod)  # show me all of the names defined on this module"
   ]
  },
  {
   "cell_type": "markdown",
   "metadata": {},
   "source": [
    "# What is defined on an empty module?\n",
    "\n",
    "Python did take our `import mymod` statement, look for `mymod.py` in the current directory, and even found it there! It then loaded the module's contents (very fast and easy"
   ]
  }
 ],
 "metadata": {
  "kernelspec": {
   "display_name": "Python 3 (ipykernel)",
   "language": "python",
   "name": "python3"
  },
  "language_info": {
   "codemirror_mode": {
    "name": "ipython",
    "version": 3
   },
   "file_extension": ".py",
   "mimetype": "text/x-python",
   "name": "python",
   "nbconvert_exporter": "python",
   "pygments_lexer": "ipython3",
   "version": "3.13.5"
  },
  "widgets": {
   "application/vnd.jupyter.widget-state+json": {
    "state": {},
    "version_major": 2,
    "version_minor": 0
   }
  }
 },
 "nbformat": 4,
 "nbformat_minor": 4
}

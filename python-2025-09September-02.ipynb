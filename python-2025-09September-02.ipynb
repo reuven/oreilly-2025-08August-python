{
 "cells": [
  {
   "cell_type": "markdown",
   "metadata": {},
   "source": [
    "# Agenda, week 5\n",
    "\n",
    "1. Q&A\n",
    "2. What are modules? What do they give us?\n",
    "3. The various forms of the `import` statement\n",
    "4. Developing a simple module\n",
    "5. What happens when we `import` a module -- the special `__name__` variable\n",
    "6. Python's standard library\n",
    "7. PyPI and `pip` -- installing third-party modules\n",
    "8. A little bit about `uv`\n",
    "9. Using third-party modules -- how do you find, choose, download, and use them (and do that safely)?\n",
    "10. AMA -- ask me anything\n",
    "11. What next? Now that you've finished this course, where do you go for additional Python learning, resources, etc?"
   ]
  },
  {
   "cell_type": "markdown",
   "metadata": {},
   "source": [
    "# What are modules? What do they give us?\n",
    "\n",
    "We've talked a number of times about the \"Don't repeat yourself\" rule in programming, aka \"DRY.\" If you have written something once, you shouldn't repeat it!\n",
    "\n",
    "1. If the same line is repeated several times in a row, we should replace that with a loop.\n",
    "2. If the same code is repeated several times in a program, we should replace that with a function.\n",
    "3. If the same code is repeated several times across multiple programs, we can use a *library*.\n",
    "\n",
    "A library is a term used in many programming languages to describe either code or data that was defined by someone else, in the past, which you can load into (\"borrow,\" if you will) your program. You don't have to reinvent the wheel this way!\n",
    "\n",
    "Just about every programming language supports libraries. This way, you can save yourself time in the future, or you can save your colleagues time, or they can save you time.\n",
    "\n",
    "Moreover, if there is a bug in a library, it can be fixed once and affect all of our programs. Or if there's an optimization/fix/improvement, then we can fix it once, and affect all of our programs.\n",
    "\n",
    "In Python, we call our libraries \"modules\" and \"packages\":\n",
    "\n",
    "- A module is a single file in which we've defined Python functions and/or variables\n",
    "- A package is a directory containing one or more modules.\n",
    "\n",
    "When we use a module in Python, we get to reuse code and data that other people have defined.\n",
    "\n",
    "A module also defines what we call a \"namespace,\" a way to ensure that variable names are separated from one another, so different pieces of your program don't step on each other's variables."
   ]
  },
  {
   "cell_type": "markdown",
   "metadata": {},
   "source": [
    "# AP: What do you mean by \"separate namespaces\" for data and functions?\n",
    "\n",
    "If I have a software product called ABCDE, and I take out a trademark on that product, then no one else in the software industry can have a product called ABCDE, because that would be confusing.\n",
    "\n",
    "But if someone comes out with a car and calls it ABCDE, then I cannot stop them from having that trademark, because it's a different field.\n",
    "\n",
    "You could say that even though the name is the same, it's in two different \"namespaces,\" it has two different domains.\n",
    "\n",
    "Another example: My name is \"Reuven,\" and there are other Reuvens around. How do we distinguish between me and the others? We use last names! Last names serve as a \"namespace,\" ensuring that I am easily distinguished from other Reuvens out there.\n",
    "\n",
    "The problem of namespacing is basically that we need to resolve the ambiguity when there are multiple thigns with the same name.\n",
    "\n",
    "In many languages, the namespace for functions and the namespace for variables is kept separate. You can have variables `a`, `b`, and `c`, and these names have nothing whatsoever to do with the functions called `a`, `b`, and `c`. They will never interfere with one another. (Whether this is a good idea for you to do in your program is separate.)\n",
    "\n",
    "Python doesn't make this distinction. In Python, we have a single namespace, a single last name, a single domain for trademarks, for all of the things we define, both functions and variables. \n",
    "\n",
    "- If you define a variable `print`, you have just erased (in some ways) the builtin function `print`.   Only one can exist at a time! (This isn't quite true in the case of `print` and other builtin functions, but it will feel that way if you make such a definition!)\n",
    "- If you define a function `total` that takes a bunch of numbers and returns their total, and then you invoke the function and assign the result to a variable named `total`, you have now erased the function's definition! Because now `total` is an integer, not a function.\n",
    "\n",
    "Among other things, this means that you have to be a bit careful about what names you give to variables and functions, to ensure that they don't collide in this sort of way.\n",
    "\n",
    "When we use `def` to define a function, we're really assigning to a variable. "
   ]
  },
  {
   "cell_type": "markdown",
   "metadata": {},
   "source": [
    "# How do we use a module in Python?\n",
    "\n",
    "Python comes with a large collection of modules known as the \"standard library.\" One of the modules in there is `random`, which contains a large number of functions having to do with random values -- getting random integers, choosing random elements of a list, etc.\n",
    "\n",
    "If we want to use that functionality (rather than invent it ourselves), we need to tell Python that we want to load up the `random` module. How do we do that?\n",
    "\n",
    "We use the `import` statement. It looks like this:"
   ]
  },
  {
   "cell_type": "code",
   "execution_count": 1,
   "metadata": {},
   "outputs": [],
   "source": [
    "import random"
   ]
  },
  {
   "cell_type": "markdown",
   "metadata": {},
   "source": [
    "# Dive into the syntax of `import`\n",
    "\n",
    "1. We say `import`. Note that it's not a function! We don't put the name to its right in `()`.\n",
    "2. The name to its right, unlike *most* programming languages I've used in the last, is not a string indicating the filename that we want to import or read. Rather, it's the name of the variable into which the module's values will be assigned.\n",
    "3. There is no (easy, standard) way to use `import` with the name of a file. Rather, you provide the name of the module, and Python uses that as the basis for finding and loading the module you named."
   ]
  },
  {
   "cell_type": "markdown",
   "metadata": {},
   "source": [
    "Now that I've imported `random`, what can I do with it? \n",
    "\n",
    "Answer: Use any/all of the values that it now contains.\n",
    "\n",
    "Well, what does it contain?\n",
    "\n",
    "We can find out in a few different ways. The easiest (in Jupyter) is to run the `dir` function, which returns a list of strings, names that can go after a `.` after the module name.\n",
    "\n",
    "If `dir(random)` includes the string `randint`, then we can use `random.randint` as a value or function, depending on what it is. I know that `random.randint` is a function, and we can then call\n",
    "\n",
    "    random.randint(0, 100)\n",
    "\n",
    "to get a random integer from 0-100.\n",
    "\n",
    "If you want documentation showing not just the names, but what they do, then you can go to `docs.python.org` and look up the `random` module."
   ]
  },
  {
   "cell_type": "markdown",
   "metadata": {},
   "source": [
    "# Exercise: Guessing game\n",
    "\n",
    "1. Have the computer choose a random integer from 0-100 using `random.randint` and assign to `number`.\n",
    "2. Ask the user, repeatedly, to guess a number:\n",
    "    - If it's too high, say \"too high\"\n",
    "    - If it's too low, say \"too low\"\n",
    "    - Otherwise, say \"just right\" and exit\n",
    "3. If it's not right, then keep going, and ask the user to guess again.\n",
    "4. When exiting the program, print not only the number, but how many guesses it took."
   ]
  },
  {
   "cell_type": "code",
   "execution_count": 3,
   "metadata": {},
   "outputs": [
    {
     "name": "stdin",
     "output_type": "stream",
     "text": [
      "Guess:  50\n"
     ]
    },
    {
     "name": "stdout",
     "output_type": "stream",
     "text": [
      "Too low!\n"
     ]
    },
    {
     "name": "stdin",
     "output_type": "stream",
     "text": [
      "Guess:  75\n"
     ]
    },
    {
     "name": "stdout",
     "output_type": "stream",
     "text": [
      "Too high!\n"
     ]
    },
    {
     "name": "stdin",
     "output_type": "stream",
     "text": [
      "Guess:  62\n"
     ]
    },
    {
     "name": "stdout",
     "output_type": "stream",
     "text": [
      "Too high!\n"
     ]
    },
    {
     "name": "stdin",
     "output_type": "stream",
     "text": [
      "Guess:  57\n"
     ]
    },
    {
     "name": "stdout",
     "output_type": "stream",
     "text": [
      "Too high!\n"
     ]
    },
    {
     "name": "stdin",
     "output_type": "stream",
     "text": [
      "Guess:  53\n"
     ]
    },
    {
     "name": "stdout",
     "output_type": "stream",
     "text": [
      "Too high!\n"
     ]
    },
    {
     "name": "stdin",
     "output_type": "stream",
     "text": [
      "Guess:  52\n"
     ]
    },
    {
     "name": "stdout",
     "output_type": "stream",
     "text": [
      "Too high!\n"
     ]
    },
    {
     "name": "stdin",
     "output_type": "stream",
     "text": [
      "Guess:  51\n"
     ]
    },
    {
     "name": "stdout",
     "output_type": "stream",
     "text": [
      "You got it!\n",
      "Number was 51, got it in 7 guesses.\n"
     ]
    }
   ],
   "source": [
    "import random\n",
    "\n",
    "number = random.randint(0, 100)\n",
    "guess_counter = 0\n",
    "\n",
    "while True:\n",
    "    s = input('Guess: ').strip()\n",
    "\n",
    "    if not s.isdigit():\n",
    "        print('Not numeric; try again!')\n",
    "        continue\n",
    "\n",
    "    guess = int(s)\n",
    "    guess_counter += 1\n",
    "\n",
    "    if guess == number:\n",
    "        print('You got it!')\n",
    "        break\n",
    "    elif guess < number:\n",
    "        print('Too low!')\n",
    "    else:\n",
    "        print('Too high!')\n",
    "\n",
    "print(f'Number was {number}, got it in {guess_counter} guesses.')        "
   ]
  },
  {
   "cell_type": "markdown",
   "metadata": {},
   "source": [
    "# Where did Python load `random` from?\n",
    "\n",
    "We said `import random`, and we know that the `random` variable was assigned a module object, and that the module was populated from somewhere. But where? \n",
    "\n",
    "We can ask `random` to tell us about itself:"
   ]
  },
  {
   "cell_type": "code",
   "execution_count": 4,
   "metadata": {},
   "outputs": [
    {
     "data": {
      "text/plain": [
       "<module 'random' from '/Users/reuven/.pyenv/versions/3.13.5/lib/python3.13/random.py'>"
      ]
     },
     "execution_count": 4,
     "metadata": {},
     "output_type": "execute_result"
    }
   ],
   "source": [
    "random"
   ]
  },
  {
   "cell_type": "markdown",
   "metadata": {},
   "source": [
    "How did saying `import random` get translated into loading the file in my `.pyenv` directory, deep down?\n",
    "\n",
    "`sys.path` is the answer. The `sys` module is Python's runtime system. When Python runs, it consults `sys` all of the time. You have to `import sys` to use it, but that just defines the name; the module is loaded at runtime.\n",
    "\n",
    "`sys.path` is a list of strings that Python consults to find modules we're loading."
   ]
  },
  {
   "cell_type": "code",
   "execution_count": 5,
   "metadata": {},
   "outputs": [
    {
     "data": {
      "text/plain": [
       "['/Users/reuven/.pyenv/versions/3.13.5/lib/python313.zip',\n",
       " '/Users/reuven/.pyenv/versions/3.13.5/lib/python3.13',\n",
       " '/Users/reuven/.pyenv/versions/3.13.5/lib/python3.13/lib-dynload',\n",
       " '',\n",
       " '/Users/reuven/.local/lib/python3.13/site-packages',\n",
       " '/Users/reuven/.pyenv/versions/3.13.5/lib/python3.13/site-packages']"
      ]
     },
     "execution_count": 5,
     "metadata": {},
     "output_type": "execute_result"
    }
   ],
   "source": [
    "import sys\n",
    "\n",
    "sys.path"
   ]
  },
  {
   "cell_type": "code",
   "execution_count": 6,
   "metadata": {},
   "outputs": [
    {
     "data": {
      "text/plain": [
       "<module 'random' from '/Users/reuven/.pyenv/versions/3.13.5/lib/python3.13/random.py'>"
      ]
     },
     "execution_count": 6,
     "metadata": {},
     "output_type": "execute_result"
    }
   ],
   "source": [
    "random"
   ]
  },
  {
   "cell_type": "markdown",
   "metadata": {},
   "source": [
    "What if I want Python to look in other places? There are ways to do it. One way is with environment variables, set in your OS. "
   ]
  },
  {
   "cell_type": "markdown",
   "metadata": {},
   "source": [
    "# Can I just invoke `randint`?\n",
    "\n",
    "What if I get tired of writing `random.randint` all of the time? I just want to write `randint`! Will that work?"
   ]
  },
  {
   "cell_type": "code",
   "execution_count": 7,
   "metadata": {},
   "outputs": [
    {
     "ename": "NameError",
     "evalue": "name 'randint' is not defined",
     "output_type": "error",
     "traceback": [
      "\u001b[0;31m---------------------------------------------------------------------------\u001b[0m",
      "\u001b[0;31mNameError\u001b[0m                                 Traceback (most recent call last)",
      "Cell \u001b[0;32mIn[7], line 1\u001b[0m\n\u001b[0;32m----> 1\u001b[0m \u001b[43mrandint\u001b[49m(\u001b[38;5;241m0\u001b[39m, \u001b[38;5;241m100\u001b[39m)\n",
      "\u001b[0;31mNameError\u001b[0m: name 'randint' is not defined"
     ]
    }
   ],
   "source": [
    "randint(0, 100)"
   ]
  },
  {
   "cell_type": "markdown",
   "metadata": {},
   "source": [
    "# `from .. import`\n",
    "\n",
    "The special `from .. import` syntax lets us import a module, and then instead of assigning the module's name as a variable, we get the function we named.\n",
    "\n",
    "If I were to say\n",
    "\n",
    "    from random import randint\n",
    "\n",
    "then I wouldn't be able to say `random.randint`. That's beacuse the only thing we defined in the above line is one variable, `randint`. `random` isn't defined, and thus `random.randint` isn't avaiable.\n",
    "\n",
    "Can you say both\n",
    "\n",
    "    import random\n",
    "    from random import randint\n",
    "\n",
    "Yes, and sometimes I even encourage that.    "
   ]
  },
  {
   "cell_type": "markdown",
   "metadata": {},
   "source": [
    "# What if I want to give the module an alias?\n",
    "\n",
    "What if, instead of importing the module and getting its name dictated by its filename, I want to have the module variable defined as a different name.\n",
    "\n",
    "For this, we have `import .. as`. This imports as per usual, but we get to define an alias for our module.\n",
    "\n",
    "This is useful in two cases:\n",
    "\n",
    "1. The name is super long and annoying\n",
    "2. The name appears in more than one place, and we want to ensure that there aren't collisions."
   ]
  },
  {
   "cell_type": "code",
   "execution_count": 11,
   "metadata": {},
   "outputs": [],
   "source": [
    "import random as r"
   ]
  },
  {
   "cell_type": "code",
   "execution_count": 12,
   "metadata": {},
   "outputs": [
    {
     "data": {
      "text/plain": [
       "57"
      ]
     },
     "execution_count": 12,
     "metadata": {},
     "output_type": "execute_result"
    }
   ],
   "source": [
    "r.randint(0, 100)"
   ]
  },
  {
   "cell_type": "markdown",
   "metadata": {},
   "source": [
    "# The fourth version: `from MODULE import NAME as ALIAS`\n",
    "\n",
    "Then I can say\n"
   ]
  },
  {
   "cell_type": "code",
   "execution_count": 13,
   "metadata": {},
   "outputs": [],
   "source": [
    "from random import randint as ri"
   ]
  },
  {
   "cell_type": "markdown",
   "metadata": {},
   "source": [
    "# The four ways to use `import`:\n",
    "\n",
    "1. `import MODNAME` -- the standard way to do things, which imports the entire module and defines `MODNAME` AS A VARIABLE\n",
    "2. `IMPORT MODNAME AS ALIAS` -- just rename the variable that will be used for the module\n",
    "3. `from MODNAME import NAME` -- don't define `MODNAME`, but do define `NAME`\n",
    "4. `from MODNAME import NAME as ALIAS` -- rename the imported `NAME` as `ALIAS`."
   ]
  },
  {
   "cell_type": "markdown",
   "metadata": {},
   "source": [
    "# Importing more than one module\n",
    "\n",
    "Each `import` needs to be on a line by itself.\n",
    "\n",
    "If you want to import from `abcd` and `efgh` and `ijkl`, you have to say:\n",
    "\n",
    "    import abcd\n",
    "    import efgh\n",
    "    import ijkl\n",
    "\n",
    "If you're using `from .. import`, then you can import multiple names from the same module:\n",
    "\n",
    "    from abcd import thing1, thing2\n",
    "    "
   ]
  },
  {
   "cell_type": "markdown",
   "metadata": {},
   "source": [
    "# Exercise: Another guessing game!\n",
    "\n",
    "1. Define a list of strings, where each string represents the months of the year.\n",
    "2. Use `random.choice`, a function in the `random` module, to select one of the months. However, you don't want to invoke it as `random.choice`, but rather as just `ch`, for short. You'll call `ch` on the list of month names, and get a random one.\n",
    "3. Ask the user, repeatedly, to guess the month that was selected.\n",
    "4. When they answer correctly, indicate how many times they guessed."
   ]
  },
  {
   "cell_type": "code",
   "execution_count": 14,
   "metadata": {},
   "outputs": [],
   "source": [
    "months = 'Jan Feb Mar Apr May Jun Jul Aug Sep Oct Nov Dec'.split()"
   ]
  },
  {
   "cell_type": "code",
   "execution_count": 15,
   "metadata": {},
   "outputs": [
    {
     "data": {
      "text/plain": [
       "['Jan',\n",
       " 'Feb',\n",
       " 'Mar',\n",
       " 'Apr',\n",
       " 'May',\n",
       " 'Jun',\n",
       " 'Jul',\n",
       " 'Aug',\n",
       " 'Sep',\n",
       " 'Oct',\n",
       " 'Nov',\n",
       " 'Dec']"
      ]
     },
     "execution_count": 15,
     "metadata": {},
     "output_type": "execute_result"
    }
   ],
   "source": [
    "months"
   ]
  },
  {
   "cell_type": "code",
   "execution_count": 16,
   "metadata": {},
   "outputs": [],
   "source": [
    "# by using from .. import .. as\n",
    "# - I imported the random module\n",
    "# - I said that I want to define just the \"choice\" function from the module, not the module itself\n",
    "# - but I want to alias \"choice\" to something else, \"ch\"\n",
    "\n",
    "from random import choice as ch"
   ]
  },
  {
   "cell_type": "code",
   "execution_count": 20,
   "metadata": {},
   "outputs": [
    {
     "data": {
      "text/plain": [
       "'Dec'"
      ]
     },
     "execution_count": 20,
     "metadata": {},
     "output_type": "execute_result"
    }
   ],
   "source": [
    "ch(months)"
   ]
  },
  {
   "cell_type": "code",
   "execution_count": 21,
   "metadata": {},
   "outputs": [
    {
     "name": "stdin",
     "output_type": "stream",
     "text": [
      "Guess the month:  Jul\n",
      "Guess the month:  May\n",
      "Guess the month:  Mar\n",
      "Guess the month:  Jan\n",
      "Guess the month:  Feb\n",
      "Guess the month:  Apr\n",
      "Guess the month:  Sep\n",
      "Guess the month:  Oct\n",
      "Guess the month:  Nov\n",
      "Guess the month:  Dec\n",
      "Guess the month:  Aug\n"
     ]
    },
    {
     "name": "stdout",
     "output_type": "stream",
     "text": [
      "You got it!\n",
      "You got it in 11 guesses!\n"
     ]
    }
   ],
   "source": [
    "from random import choice as ch\n",
    "\n",
    "months = 'Jan Feb Mar Apr May Jun Jul Aug Sep Oct Nov Dec'.split()\n",
    "random_month = ch(months)\n",
    "guess_counter = 0\n",
    "\n",
    "while True:\n",
    "    guess = input('Guess the month: ').strip().capitalize()[:3]\n",
    "    guess_counter += 1\n",
    "\n",
    "    if guess == random_month:\n",
    "        print('You got it!')\n",
    "        break\n",
    "\n",
    "print(f'You got it in {guess_counter} guesses!')    "
   ]
  },
  {
   "cell_type": "markdown",
   "metadata": {},
   "source": [
    "Many, *many* famous modules expect us to alias them when we import them:\n",
    "\n",
    "- `import numpy as np`\n",
    "- `import pandas as pd`\n",
    "- `import matplotlib as plt`\n",
    "- `from plotly import express as px`"
   ]
  },
  {
   "cell_type": "markdown",
   "metadata": {},
   "source": [
    "# Next up\n",
    "\n",
    "1. Write a simple module and `import` it\n",
    "2. How do modules work?"
   ]
  },
  {
   "cell_type": "markdown",
   "metadata": {},
   "source": [
    "# Writing a module\n",
    "\n",
    "Writing a module is one of the easiest things you can do in Python! (Distributing it, packaging it up, etc., can be frustrating and confusing.) However, if you're writing a module that will be used in one particular program, then you can get away with just putting the module file inside of the program's directory. That's because `import` always looks first in the current directory.\n",
    "\n",
    "What is a module?\n",
    "\n",
    "- A file\n",
    "- containing Python variable and function definitions\n",
    "- with a `.py` suffix\n",
    "- in a directory from which it can be loaded (in this case, the same as our program or our Jupyter notebook)"
   ]
  },
  {
   "cell_type": "code",
   "execution_count": 22,
   "metadata": {},
   "outputs": [],
   "source": [
    "# right now, in the same directory as this Jupyter notebook, is an empty file\n",
    "# called mymod.py\n",
    "\n",
    "# if I say \"import mymod\", will it work?\n",
    "\n",
    "import mymod"
   ]
  },
  {
   "cell_type": "code",
   "execution_count": 23,
   "metadata": {},
   "outputs": [
    {
     "data": {
      "text/plain": [
       "['__builtins__',\n",
       " '__cached__',\n",
       " '__doc__',\n",
       " '__file__',\n",
       " '__loader__',\n",
       " '__name__',\n",
       " '__package__',\n",
       " '__spec__']"
      ]
     },
     "execution_count": 23,
     "metadata": {},
     "output_type": "execute_result"
    }
   ],
   "source": [
    "dir(mymod)  # show me all of the names defined on this module"
   ]
  },
  {
   "cell_type": "markdown",
   "metadata": {},
   "source": [
    "# What is defined on an empty module?\n",
    "\n",
    "Python did take our `import mymod` statement, look for `mymod.py` in the current directory, and even found it there! It then loaded the module's contents (very fast and easy) into memory, and all of the things that were defined there (which is none) were set to be attributes on `mymod`, the module object.\n",
    "\n",
    "But even though we didn't define anything, Python does, behind the scenes. In this case, they're all \"dunder\" names, meaning they start and end with \"double underscore.\"\n",
    "\n",
    "A few of these:\n",
    "\n",
    "- `__builtins__` -- this is an alias to the `builtins` namespace in Python, where such things as `print`, `int`, `dict`, and `len` are all defined\n",
    "- `__file__` -- the name of the file that was loaded, as a string\n",
    "- `__name__` -- the name of the module that was loaded, as a string"
   ]
  },
  {
   "cell_type": "code",
   "execution_count": 24,
   "metadata": {},
   "outputs": [
    {
     "data": {
      "text/plain": [
       "'mymod'"
      ]
     },
     "execution_count": 24,
     "metadata": {},
     "output_type": "execute_result"
    }
   ],
   "source": [
    "mymod.__name__"
   ]
  },
  {
   "cell_type": "code",
   "execution_count": 25,
   "metadata": {},
   "outputs": [
    {
     "data": {
      "text/plain": [
       "'/Users/reuven/Courses/Current/oreilly-2025-08August-python/mymod.py'"
      ]
     },
     "execution_count": 25,
     "metadata": {},
     "output_type": "execute_result"
    }
   ],
   "source": [
    "mymod.__file__"
   ]
  },
  {
   "cell_type": "code",
   "execution_count": 26,
   "metadata": {},
   "outputs": [],
   "source": [
    "# after I have added definitions for x, y, and hello, I'll reload my module\n",
    "\n",
    "import mymod"
   ]
  },
  {
   "cell_type": "code",
   "execution_count": 27,
   "metadata": {},
   "outputs": [
    {
     "data": {
      "text/plain": [
       "['__builtins__',\n",
       " '__cached__',\n",
       " '__doc__',\n",
       " '__file__',\n",
       " '__loader__',\n",
       " '__name__',\n",
       " '__package__',\n",
       " '__spec__']"
      ]
     },
     "execution_count": 27,
     "metadata": {},
     "output_type": "execute_result"
    }
   ],
   "source": [
    "dir(mymod)"
   ]
  },
  {
   "cell_type": "markdown",
   "metadata": {},
   "source": [
    "# Why don't I see the new names?\n",
    "\n",
    "The rule is that Python will only import a module *once* during the run of any given program. Since we had already loaded `mymod` earlier, even though it's an earlier edition, Python won't load a new one.\n",
    "\n",
    "Some options:\n",
    "\n",
    "1. Restart Python (\"restart kernel\" in Jupyter)\n",
    "2. `import importlib`, and then invoke `importlib.reload(mymod)`, which forces a reload"
   ]
  },
  {
   "cell_type": "code",
   "execution_count": 28,
   "metadata": {},
   "outputs": [],
   "source": [
    "from importlib import reload  # now I have a \"reload\" function at my disposal"
   ]
  },
  {
   "cell_type": "code",
   "execution_count": 29,
   "metadata": {},
   "outputs": [
    {
     "data": {
      "text/plain": [
       "<module 'mymod' from '/Users/reuven/Courses/Current/oreilly-2025-08August-python/mymod.py'>"
      ]
     },
     "execution_count": 29,
     "metadata": {},
     "output_type": "execute_result"
    }
   ],
   "source": [
    "reload(mymod)   # reload our mymod module"
   ]
  },
  {
   "cell_type": "code",
   "execution_count": 30,
   "metadata": {},
   "outputs": [
    {
     "data": {
      "text/plain": [
       "['__builtins__',\n",
       " '__cached__',\n",
       " '__doc__',\n",
       " '__file__',\n",
       " '__loader__',\n",
       " '__name__',\n",
       " '__package__',\n",
       " '__spec__',\n",
       " 'hello',\n",
       " 'x',\n",
       " 'y']"
      ]
     },
     "execution_count": 30,
     "metadata": {},
     "output_type": "execute_result"
    }
   ],
   "source": [
    "dir(mymod)"
   ]
  },
  {
   "cell_type": "code",
   "execution_count": 31,
   "metadata": {},
   "outputs": [
    {
     "data": {
      "text/plain": [
       "100"
      ]
     },
     "execution_count": 31,
     "metadata": {},
     "output_type": "execute_result"
    }
   ],
   "source": [
    "mymod.x"
   ]
  },
  {
   "cell_type": "code",
   "execution_count": 32,
   "metadata": {},
   "outputs": [
    {
     "data": {
      "text/plain": [
       "[10, 20, 30]"
      ]
     },
     "execution_count": 32,
     "metadata": {},
     "output_type": "execute_result"
    }
   ],
   "source": [
    "mymod.y"
   ]
  },
  {
   "cell_type": "code",
   "execution_count": 33,
   "metadata": {},
   "outputs": [
    {
     "data": {
      "text/plain": [
       "'Hello, world from mymod!'"
      ]
     },
     "execution_count": 33,
     "metadata": {},
     "output_type": "execute_result"
    }
   ],
   "source": [
    "mymod.hello('world')"
   ]
  },
  {
   "cell_type": "markdown",
   "metadata": {},
   "source": [
    "# Mapping the names\n",
    "\n",
    "If you define a variable in your module file, it'll be available as an attribute on the module object after `import`. Meaning:\n",
    "\n",
    "- In `mymod.py`, I defined `x`. After importing `mymod`, we have `mymod.x`.\n",
    "- In `mymod.py`, I defined `y`. After importing `mymod`, we have `mymod.y`.\n",
    "- In `mymod.py`, I defined the function `hello`. After importing `mymod`, we have `mymod.hello`."
   ]
  },
  {
   "cell_type": "markdown",
   "metadata": {},
   "source": [
    "# Exercise: `menu` module\n",
    "\n",
    "1. Create a new file in the same directory as Jupyter, called `menu.py`. This module will be used on many programs that want to ask the user to choose from several potential actions.\n",
    "2. In `menu.py`, define a function called `menu`. That function should take a list of strings as an argument, and ask the user to choose from among them.\n",
    "3. If the user chooses one of the strings in that argument, return that value. Otherwise, have the user try again.\n",
    "4. `import` the module from Jupyter, and see how it works."
   ]
  },
  {
   "cell_type": "code",
   "execution_count": 34,
   "metadata": {},
   "outputs": [
    {
     "name": "stdin",
     "output_type": "stream",
     "text": [
      "Choose: ['a', 'b', 'c'] no!\n",
      "Choose: ['a', 'b', 'c'] really, no!\n",
      "Choose: ['a', 'b', 'c'] \n",
      "Choose: ['a', 'b', 'c'] d\n",
      "Choose: ['a', 'b', 'c'] C\n",
      "Choose: ['a', 'b', 'c'] b\n"
     ]
    },
    {
     "name": "stdout",
     "output_type": "stream",
     "text": [
      "You chose b.\n"
     ]
    }
   ],
   "source": [
    "import menu\n",
    "\n",
    "s = menu.menu(['a', 'b', 'c'])\n",
    "\n",
    "print(f'You chose {s}.')"
   ]
  },
  {
   "cell_type": "markdown",
   "metadata": {},
   "source": [
    "# What happens when we import a module?\n",
    "\n",
    "We know that before a module is imported, the module hasn't be read into Python.\n",
    "\n",
    "But after a module is imported, then all of its variables and functions are attributes on the newly created module object.\n",
    "\n",
    "This means that when we create the module object, we also read through the module file and assign what the module's author asked to assign.\n",
    "\n",
    "In other words, if I say `import mymod`, then Python creates a skeleton, bare-bones `mymod` module. Then Python turns to the module file, goes through it, and every definition is added to that module object.\n",
    "\n",
    "But wait -- what does it mean for us to \"go through the module file\"? The answer is: We execute the module file! Every single assignment of a variable is turned into the assignment of an attribute on the module. The same goes for every function.\n",
    "\n",
    "In other words: When we `import` a module, the entire module file is executed."
   ]
  },
  {
   "cell_type": "code",
   "execution_count": 35,
   "metadata": {},
   "outputs": [
    {
     "name": "stdout",
     "output_type": "stream",
     "text": [
      "Hello from mymod!\n",
      "Goodbye from mymod!\n"
     ]
    },
    {
     "data": {
      "text/plain": [
       "<module 'mymod' from '/Users/reuven/Courses/Current/oreilly-2025-08August-python/mymod.py'>"
      ]
     },
     "execution_count": 35,
     "metadata": {},
     "output_type": "execute_result"
    }
   ],
   "source": [
    "reload(mymod)  # tell mymod to be reloaded"
   ]
  },
  {
   "cell_type": "markdown",
   "metadata": {},
   "source": [
    "# Notice:\n",
    "\n",
    "I said that when Python reads through (and executes) the module, line by line, it turns every variable/function definition into an attribute on the module object.\n",
    "\n",
    "Maybe this works both ways? Maybe, just as `x`, `y`, and `hello` are defined on the module object, maybe things on the module object are also available in the module? For example, `__name__` might be available inside of the module."
   ]
  },
  {
   "cell_type": "code",
   "execution_count": 36,
   "metadata": {},
   "outputs": [
    {
     "name": "stdout",
     "output_type": "stream",
     "text": [
      "Hello from mymod!\n",
      "Goodbye from mymod!\n"
     ]
    },
    {
     "data": {
      "text/plain": [
       "<module 'mymod' from '/Users/reuven/Courses/Current/oreilly-2025-08August-python/mymod.py'>"
      ]
     },
     "execution_count": 36,
     "metadata": {},
     "output_type": "execute_result"
    }
   ],
   "source": [
    "reload(mymod)  # tell mymod to be reloaded"
   ]
  },
  {
   "cell_type": "markdown",
   "metadata": {},
   "source": [
    "# `__name__`\n",
    "\n",
    "When we `import` a module, its `__name__` is set to be the name of the file, a short string. But if we execute a module, as if it were the first and only program (rather than just a library loaded), then `__name__` is actually set to the string `'main'`.\n",
    "\n",
    "This allows us to distinguish between when our module is imported and when it is being run. We can say\n",
    "\n",
    "    if __name__ == '__main__':\n",
    "\n",
    "The above line means:\n",
    "\n",
    "- We want to run it when the module is loaded into memory\n",
    "- Everything below this line will only be used if `__name__` is `'__main__'`.\n",
    "\n",
    "Who uses this? Everyone!\n",
    "- Run tests\n",
    "- Give a demo\n",
    "- Let the user try something interactively\n"
   ]
  },
  {
   "cell_type": "markdown",
   "metadata": {},
   "source": [
    "# Exercise: Interactive menu demo\n",
    "\n",
    "Modify `menu.py`, such that someone running it from the command line will be invited to enter words and then have the user choose from among them.\n",
    "\n",
    "- If I `import menu.py`, then it will do as before\n",
    "- If I invoke `menu.py`, then it'l demo my menu system."
   ]
  },
  {
   "cell_type": "code",
   "execution_count": 37,
   "metadata": {},
   "outputs": [
    {
     "name": "stdout",
     "output_type": "stream",
     "text": [
      "menu\n"
     ]
    },
    {
     "data": {
      "text/plain": [
       "<module 'menu' from '/Users/reuven/Courses/Current/oreilly-2025-08August-python/menu.py'>"
      ]
     },
     "execution_count": 37,
     "metadata": {},
     "output_type": "execute_result"
    }
   ],
   "source": [
    "reload(menu)"
   ]
  },
  {
   "cell_type": "code",
   "execution_count": 39,
   "metadata": {},
   "outputs": [
    {
     "data": {
      "text/plain": [
       "<module 'menu' from '/Users/reuven/Courses/Current/oreilly-2025-08August-python/menu.py'>"
      ]
     },
     "execution_count": 39,
     "metadata": {},
     "output_type": "execute_result"
    }
   ],
   "source": [
    "reload(menu)"
   ]
  },
  {
   "cell_type": "markdown",
   "metadata": {},
   "source": [
    "# Next up\n",
    "\n",
    "- Python's standard library\n",
    "- PyPI and `pip`"
   ]
  },
  {
   "cell_type": "markdown",
   "metadata": {},
   "source": [
    "# What comes with Python?\n",
    "\n",
    "When we download and install Python, we obviously get the Python language. This allows us to run Python programs. \n",
    "\n",
    "In addition, we get the \"standard library,\" a bunch of modules that you can assume everyone running Python also has.\n",
    "\n",
    "If you're running Python 3.13, then you can assume that anyone else with Python 3.13 has the same modules available, thanks to the standard library.\n",
    "\n",
    "Even if \"batteries included\" is no longer as true as was once the case, the standard library still includes a *huge* amount of functionality. Some old things are being removed, but not many new things are being added -- that's because the standard libray is only updated with new released of Python. If you're a library author, you often want to be on your own schedule.\n",
    "\n",
    "Where is the standard library located? It depends on your Python installation!"
   ]
  },
  {
   "cell_type": "code",
   "execution_count": 40,
   "metadata": {},
   "outputs": [
    {
     "data": {
      "text/plain": [
       "['/Users/reuven/.pyenv/versions/3.13.5/lib/python313.zip',\n",
       " '/Users/reuven/.pyenv/versions/3.13.5/lib/python3.13',\n",
       " '/Users/reuven/.pyenv/versions/3.13.5/lib/python3.13/lib-dynload',\n",
       " '',\n",
       " '/Users/reuven/.local/lib/python3.13/site-packages',\n",
       " '/Users/reuven/.pyenv/versions/3.13.5/lib/python3.13/site-packages']"
      ]
     },
     "execution_count": 40,
     "metadata": {},
     "output_type": "execute_result"
    }
   ],
   "source": [
    "import sys\n",
    "sys.path"
   ]
  },
  {
   "cell_type": "markdown",
   "metadata": {},
   "source": [
    "How do we use something in the standard library? We just `import` it. It's already in `sys.path`, so we can just `import` it and use it."
   ]
  },
  {
   "cell_type": "markdown",
   "metadata": {},
   "source": [
    "# Exercise: Globbing\n",
    "\n",
    "The `glob` module contains a function `glob` (i.e., `glob.glob`) that takes a single argument, a string with a pattern (e.g., `*` and `?`). It returns a list of strings, filenames matching that pattern. \n",
    "\n",
    "1. Ask the user to enter a pattern\n",
    "2. Find all of the files matching that pattern\n",
    "3. For each file, print its size (which you can calculate by opening the file and totalling up the lengths of the lines)\n",
    "4. The output should be filenames and their sizes.\n",
    "\n",
    "Don't give binary filenames -- stick with text -- avoid issues."
   ]
  },
  {
   "cell_type": "code",
   "execution_count": 50,
   "metadata": {},
   "outputs": [
    {
     "name": "stdin",
     "output_type": "stream",
     "text": [
      "Enter filename pattern:  *.py\n"
     ]
    },
    {
     "name": "stdout",
     "output_type": "stream",
     "text": [
      "menu.py:406\n",
      "mymod.py:153\n"
     ]
    }
   ],
   "source": [
    "import glob\n",
    "\n",
    "user_pattern = input('Enter filename pattern: ').strip()\n",
    "\n",
    "for one_filename in glob.glob(user_pattern):\n",
    "    total_size = 0\n",
    "\n",
    "    for one_line in open(one_filename):\n",
    "        total_size += len(one_line)\n",
    "\n",
    "    print(f'{one_filename}:{total_size}')\n"
   ]
  },
  {
   "cell_type": "markdown",
   "metadata": {},
   "source": [
    "# Beyond the standard library\n",
    "\n",
    "What if there's functionality that you know exists, and must have been shared with the Python community, but isn't in the standard library?\n",
    "\n",
    "You can look at PyPI, the Python Package Index. This was originally just a set of links to the files people would download with Python functionality. Nowadays, PyPI is sponsored by the Python Software Foundation (PSF) and it hosts the files themselves.\n",
    "\n",
    "If you find something in the standard library, that's always best. But if you don't, you'll often find a solution to your problem on PyPI."
   ]
  },
  {
   "cell_type": "code",
   "execution_count": 51,
   "metadata": {},
   "outputs": [
    {
     "name": "stdout",
     "output_type": "stream",
     "text": [
      "Collecting pdfcombine\n",
      "  Downloading pdfcombine-1.1.5-py3-none-any.whl.metadata (7.6 kB)\n",
      "Requirement already satisfied: numpy in /Users/reuven/.local/lib/python3.13/site-packages (from pdfcombine) (2.2.3)\n",
      "Requirement already satisfied: click>=4.0 in /Users/reuven/.local/lib/python3.13/site-packages (from pdfcombine) (8.1.8)\n",
      "Requirement already satisfied: pyyaml>=1.0 in /Users/reuven/.local/lib/python3.13/site-packages (from pdfcombine) (6.0.2)\n",
      "Collecting docopt>=0.6.2 (from pdfcombine)\n",
      "  Downloading docopt-0.6.2.tar.gz (25 kB)\n",
      "  Preparing metadata (setup.py) ... \u001b[?2done\n",
      "\u001b[?25hDownloading pdfcombine-1.1.5-py3-none-any.whl (9.3 kB)\n",
      "Building wheels for collected packages: docopt\n",
      "\u001b[33m  DEPRECATION: Building 'docopt' using the legacy setup.py bdist_wheel mechanism, which will be removed in a future version. pip 25.3 will enforce this behaviour change. A possible replacement is to use the standardized build interface by setting the `--use-pep517` option, (possibly combined with `--no-build-isolation`), or adding a `pyproject.toml` file to the source tree of 'docopt'. Discussion can be found at https://github.com/pypa/pip/issues/6334\u001b[0m\u001b[33m\n",
      "  Building wheel for docopt (setup.py) ... \u001b[?25done\n",
      "\u001b[?25h  Created wheel for docopt: filename=docopt-0.6.2-py2.py3-none-any.whl size=13706 sha256=3bcde15da045c4239a9d6ed92caa718919b7613189367e47eb2f5c2a869e8ff6\n",
      "  Stored in directory: /Users/reuven/Library/Caches/pip/wheels/0b/1d/03/175286677fb5a1341cc3e4755bf8ec0ed08f3329afd67446b0\n",
      "Successfully built docopt\n",
      "Installing collected packages: docopt, pdfcombine\n",
      "\u001b[2K   \u001b[38;2;114;156;31m━━━━━━━━━━━━━━━━━━━━━━━━━━━━━━━━━━━━━━━━\u001b[0m \u001b[32m2/2\u001b[0m [pdfcombine]\n",
      "\u001b[1A\u001b[2KSuccessfully installed docopt-0.6.2 pdfcombine-1.1.5\n"
     ]
    }
   ],
   "source": [
    "!pip install pdfcombine"
   ]
  },
  {
   "cell_type": "code",
   "execution_count": 52,
   "metadata": {},
   "outputs": [],
   "source": [
    "import pdfcombine"
   ]
  },
  {
   "cell_type": "markdown",
   "metadata": {},
   "source": [
    "# Exercise: Colorize text!\n",
    "\n",
    "1. The \"rich\" library lets you invoke `rich.print('before [blue]stuff[/blue] after')`. When you do that, the text gets colorized.\n",
    "2. Download and install `rich` from PyPI\n",
    "3. Use `rich.print` to do the above, or something like it.}"
   ]
  },
  {
   "cell_type": "code",
   "execution_count": 53,
   "metadata": {},
   "outputs": [
    {
     "name": "stdout",
     "output_type": "stream",
     "text": [
      "Requirement already satisfied: rich in /Users/reuven/.local/lib/python3.13/site-packages (13.9.4)\n",
      "Requirement already satisfied: markdown-it-py>=2.2.0 in /Users/reuven/.local/lib/python3.13/site-packages (from rich) (3.0.0)\n",
      "Requirement already satisfied: pygments<3.0.0,>=2.13.0 in /Users/reuven/.local/lib/python3.13/site-packages (from rich) (2.19.1)\n",
      "Requirement already satisfied: mdurl~=0.1 in /Users/reuven/.local/lib/python3.13/site-packages (from markdown-it-py>=2.2.0->rich) (0.1.2)\n",
      "Note: you may need to restart the kernel to use updated packages.\n"
     ]
    }
   ],
   "source": [
    "%pip install rich"
   ]
  },
  {
   "cell_type": "code",
   "execution_count": 56,
   "metadata": {},
   "outputs": [
    {
     "data": {
      "text/html": [
       "<pre style=\"white-space:pre;overflow-x:auto;line-height:normal;font-family:Menlo,'DejaVu Sans Mono',consolas,'Courier New',monospace\">Hello, <span style=\"color: #800000; text-decoration-color: #800000\">out there</span>!\n",
       "</pre>\n"
      ],
      "text/plain": [
       "Hello, \u001b[31mout there\u001b[0m!\n"
      ]
     },
     "metadata": {},
     "output_type": "display_data"
    }
   ],
   "source": [
    "import rich \n",
    "\n",
    "rich.print('Hello, [red]out there[/red]!')"
   ]
  },
  {
   "cell_type": "code",
   "execution_count": 57,
   "metadata": {},
   "outputs": [
    {
     "data": {
      "text/html": [
       "<pre style=\"white-space:pre;overflow-x:auto;line-height:normal;font-family:Menlo,'DejaVu Sans Mono',consolas,'Courier New',monospace\">Hello, <span style=\"color: #800000; text-decoration-color: #800000; background-color: #808000\">out there</span>!\n",
       "</pre>\n"
      ],
      "text/plain": [
       "Hello, \u001b[31;43mout there\u001b[0m!\n"
      ]
     },
     "metadata": {},
     "output_type": "display_data"
    }
   ],
   "source": [
    "rich.print('Hello, [red on yellow]out there[/red on yellow]!')"
   ]
  },
  {
   "cell_type": "markdown",
   "metadata": {},
   "source": [
    "# Next up\n",
    "\n",
    "1. A bit more about PyPI, `pip`, and `uv`\n",
    "2. AMA (ask me anything!)\n",
    "3. Next steps in Python"
   ]
  },
  {
   "cell_type": "markdown",
   "metadata": {},
   "source": [
    "# `pip` and installing packages from PyPI\n",
    "\n",
    "A module is a single file, like the ones that we wrote earlier, containing Python code. And a package is a directory containing one or more modules. Things get more complex when we want to distribute a package, because then there's additional data about dependencies -- what other packages/modules this package needs. The sum total is known as a \"distribution package,\" with the Python package and the metadata that comes it.  This is what PyPI helps us to distribute.\n",
    "\n",
    "When you download and install a file using `pip`, it's going to PyPI, downloading the distribution package, opening it up, and putting it in the `site-packages` directory for your version of Python. Every version of Python gets its own `site-packages` directory. Every `site-packages` directory has room for one package of each name.\n",
    "\n",
    "If you have more than one Python project on your computer, then each will have its own packages to download and install. It's quite possible that they'll have contradictory requirements -- that one of your projects will need version 1.0 of a package, but another of your projects will require version 2.0 of that same package. Python can't handle that easily. To do it, we need something known as a \"virtual environment.\"\n",
    "\n",
    "Part of the basic way that Python tries to protect you from such issues is by having `pip` only download and install packages that it doesn't already have.\n",
    "\n",
    "If you say, on the command line,\n",
    "\n",
    "    pip install amazingpackage\n",
    "\n",
    "and `amazingpackage` is already installed, then it won't do anything -- even if `amazingpackage` has been updated 100 times on PyPI since the version you have installed is there.\n",
    "\n",
    "If you want to upgrade, you can use\n",
    "\n",
    "    pip install -U amazingpackage\n",
    "\n",
    "The thing is, packaging in Python has become very complex, frustrating, and full of tools that do some (but not all) of what you want. Some check for these contradictions. Some put together distribution packages. Some run virtual environments.\n",
    "\n",
    "About a year ago, some people came out with `uv`, a totally new package manager that basically claimed to be many 1000s of times faster than `pip`. It turns out that it really is that much faster, because it's written in Rust.\n",
    "\n",
    "I started to use `uv` instead of `pip`:\n",
    "\n",
    "    uv pip install mypackage\n",
    "\n",
    "Just this alone is a big advance over `pip`, but I've slowly but surely learning to use `uv` in new and better ways. Everything I do, I'm trying to do inside of a `uv` \"project,\" meaning a directory for my software that contains information about what packages I'm using."
   ]
  },
  {
   "cell_type": "markdown",
   "metadata": {},
   "source": [
    "# AMA "
   ]
  },
  {
   "cell_type": "markdown",
   "metadata": {},
   "source": [
    "# What next?\n",
    "\n",
    "1. You will only improve with practice.\n",
    "    - http://practiceyourpython.com/\n",
    "    - Do small projects that are on topics that are of interest to you!\n",
    "    - Join an open-source project\n",
    "2. Go to conferences!\n",
    "    - Attend the talks, and learn from them\n",
    "    - Be social! Talk to people at meals and coffee breaks, and ask what they do!\n",
    "    - Big ones each year are PyCon US (Long Beach, CA in May 2026 / Euro Python which will be in July 2026)"
   ]
  }
 ],
 "metadata": {
  "kernelspec": {
   "display_name": "Python 3 (ipykernel)",
   "language": "python",
   "name": "python3"
  },
  "language_info": {
   "codemirror_mode": {
    "name": "ipython",
    "version": 3
   },
   "file_extension": ".py",
   "mimetype": "text/x-python",
   "name": "python",
   "nbconvert_exporter": "python",
   "pygments_lexer": "ipython3",
   "version": "3.13.5"
  },
  "widgets": {
   "application/vnd.jupyter.widget-state+json": {
    "state": {},
    "version_major": 2,
    "version_minor": 0
   }
  }
 },
 "nbformat": 4,
 "nbformat_minor": 4
}

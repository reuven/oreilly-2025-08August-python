{
 "cells": [
  {
   "cell_type": "markdown",
   "metadata": {},
   "source": [
    "# Agenda, week 5\n",
    "\n",
    "1. Q&A\n",
    "2. What are modules? What do they give us?\n",
    "3. The various forms of the `import` statement\n",
    "4. Developing a simple module\n",
    "5. What happens when we `import` a module -- the special `__name__` variable\n",
    "6. Python's standard library\n",
    "7. PyPI and `pip` -- installing third-party modules\n",
    "8. A little bit about `uv`\n",
    "9. Using third-party modules -- how do you find, choose, download, and use them (and do that safely)?\n",
    "10. AMA -- ask me anything\n",
    "11. What next? Now that you've finished this course, where do you go for additional Python learning, resources, etc?"
   ]
  },
  {
   "cell_type": "markdown",
   "metadata": {},
   "source": [
    "# What are modules? What do they give us?\n",
    "\n",
    "We've talked a number of times about the \"Don't repeat yourself\" rule in programming, aka \"DRY.\" If you have written something once, you shouldn't repeat it!\n",
    "\n",
    "1. If the same line is repeated several times in a row, we should replace that with a loop.\n",
    "2. If the same code is repeated several times in a program, we should replace that with a function.\n",
    "3. If the same code is repeated several times across multiple programs, we can use a *library*.\n",
    "\n",
    "A library is a term used in many programming languages to describe either code or data that was defined by someone else, in the past, which you can load into (\"borrow,\" if you will) your program. You don't have to reinvent the wheel this way!\n",
    "\n",
    "Just about every programming language supports libraries. This way, you can save yourself time in the future, or you can save your colleagues time, or they can save you time.\n",
    "\n",
    "Moreover, if there is a bug in a library, it can be fixed once and affect all of our programs. Or if there's an optimization/fix/improvement, then we can fix it once, and affect all of our programs.\n",
    "\n"
   ]
  },
  {
   "cell_type": "code",
   "execution_count": null,
   "metadata": {},
   "outputs": [],
   "source": []
  }
 ],
 "metadata": {
  "kernelspec": {
   "display_name": "Python 3 (ipykernel)",
   "language": "python",
   "name": "python3"
  },
  "language_info": {
   "codemirror_mode": {
    "name": "ipython",
    "version": 3
   },
   "file_extension": ".py",
   "mimetype": "text/x-python",
   "name": "python",
   "nbconvert_exporter": "python",
   "pygments_lexer": "ipython3",
   "version": "3.13.5"
  },
  "widgets": {
   "application/vnd.jupyter.widget-state+json": {
    "state": {},
    "version_major": 2,
    "version_minor": 0
   }
  }
 },
 "nbformat": 4,
 "nbformat_minor": 4
}

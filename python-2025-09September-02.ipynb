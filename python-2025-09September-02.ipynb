{
 "cells": [
  {
   "cell_type": "markdown",
   "metadata": {},
   "source": [
    "# Agenda, week 5\n",
    "\n",
    "1. Q&A\n",
    "2. What are modules? What do they give us?\n",
    "3. The various forms of the `import` statement\n",
    "4. Developing a simple module\n",
    "5. What happens when we `import` a module -- the special `__name__` variable\n",
    "6. Python's standard library\n",
    "7. PyPI and `pip` -- installing third-party modules\n",
    "8. A little bit about `uv`\n",
    "9. Using third-party modules -- how do you find, choose, download, and use them (and do that safely)?\n",
    "10. AMA -- ask me anything\n",
    "11. What next? Now that you've finished this course, where do you go for additional Python learning, resources, etc?"
   ]
  },
  {
   "cell_type": "code",
   "execution_count": null,
   "metadata": {},
   "outputs": [],
   "source": []
  }
 ],
 "metadata": {
  "kernelspec": {
   "display_name": "Python 3 (ipykernel)",
   "language": "python",
   "name": "python3"
  },
  "language_info": {
   "codemirror_mode": {
    "name": "ipython",
    "version": 3
   },
   "file_extension": ".py",
   "mimetype": "text/x-python",
   "name": "python",
   "nbconvert_exporter": "python",
   "pygments_lexer": "ipython3",
   "version": "3.13.5"
  },
  "widgets": {
   "application/vnd.jupyter.widget-state+json": {
    "state": {},
    "version_major": 2,
    "version_minor": 0
   }
  }
 },
 "nbformat": 4,
 "nbformat_minor": 4
}
